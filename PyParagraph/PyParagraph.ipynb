{
 "cells": [
  {
   "cell_type": "code",
   "execution_count": null,
   "metadata": {},
   "outputs": [],
   "source": [
    "# PyParagraph\n",
    "# In this challenge, you get to play the role of chief linguist at a local learning academy. \n",
    "# As chief linguist, you are responsible for assessing the complexity of various passages of writing, \n",
    "# ranging from the sophomoric Twilight novel to the nauseatingly high-minded research article. \n",
    "# Having read so many passages, you've since come up with a fairly simple set of metrics for assessing complexity.\n",
    "\n",
    "# Your task is to create a Python script to automate the analysis of any such passage using these metrics. \n",
    "# Your script will need to do the following:\n",
    "\n",
    "# * Import a text file filled with a paragraph of your choosing.\n",
    "# * Assess the passage for each of the following:\n",
    "#  * Approximate word count\n",
    "#  * Approximate sentence count\n",
    "#  * Approximate letter count (per word)\n",
    "#  * Average sentence length (in words)\n",
    "\n",
    "# * As an example, this passage:\n",
    "\n",
    "# “Adam Wayne, the conqueror, with his face flung back and his mane like a lion's, \n",
    "# stood with his great sword point upwards, the red raiment of his office flapping around him \n",
    "# like the red wings of an archangel. And the King saw, he knew not how, something new and overwhelming. \n",
    "# The great green trees and the great red robes swung together in the wind. The preposterous masquerade, \n",
    "# born of his own mockery, towered over him and embraced the world. This was the normal, this was sanity, \n",
    "# this was nature, and he himself, with his rationality, and his detachment and his black frock-coat, \n",
    "# he was the exception and the accident a blot of black upon a world of crimson and gold.”\n",
    "\n",
    "# ...would yield these results:\n",
    "# ```output\n",
    "# Paragraph Analysis\n",
    "# -----------------\n",
    "# Approximate Word Count: 122\n",
    "# Approximate Sentence Count: 5\n",
    "# Average Letter Count: 4.6\n",
    "# Average Sentence Length: 24.0\n",
    "# ```\n",
    "# * **Special Hint:** You may find this code snippet helpful when determining sentence length \n",
    "# (look into [regular expressions](https://en.wikipedia.org/wiki/Regular_expression) if interested in learning more):\n",
    "\n",
    "# ```python\n",
    "# import re\n",
    "# re.split(\"(?<=[.!?]) +\", paragraph)\n",
    "# ```\n"
   ]
  },
  {
   "cell_type": "code",
   "execution_count": 37,
   "metadata": {},
   "outputs": [
    {
     "name": "stdout",
     "output_type": "stream",
     "text": [
      "831\n",
      " -------------------  \n",
      " Paragraph Analysis for sample\n",
      " -------------------  \n",
      " Approximate Word Count:  130\n",
      " Approximate Sentence Count:  5\n",
      " Average Letter Count:   6.4\n",
      " Average Sentence Length:  26.0\n",
      " -------------------  \n"
     ]
    }
   ],
   "source": [
    "import re\n",
    "import string\n",
    "\n",
    "file = 'raw_data/paragraph_1.txt'\n",
    "\n",
    "text_count = 0\n",
    "\n",
    "with open(file, 'r') as text:\n",
    "    paragraph = text.read()\n",
    "    \n",
    "word_count = 0\n",
    "sentence_count = 0\n",
    "letter_count = 0\n",
    "sentences = re.split(\"(?<=[.!?]) +\", paragraph)\n",
    "for s in sentences:\n",
    "    sentence_count = sentence_count + 1 \n",
    "    word_count = word_count + len(re.split(\" \", s))\n",
    "    letter_count = letter_count + len(s) - s.count(\" \", 0 , len(s)) # do not include spaces\n",
    "    \n",
    "print(letter_count)\n",
    "av_letter_count = letter_count / word_count\n",
    "av_sentence_length = word_count / sentence_count\n",
    "\n",
    "\n",
    "print(\" -------------------  \") \n",
    "print(\" Paragraph Analysis for sample\")\n",
    "print(\" -------------------  \")\n",
    "print(\" Approximate Word Count: \", word_count)\n",
    "print(\" Approximate Sentence Count: \", sentence_count)\n",
    "print(\" Average Letter Count: %5.1f\" % av_letter_count)\n",
    "print(\" Average Sentence Length: \", av_sentence_length)\n",
    "print(\" -------------------  \")\n",
    "\n",
    "\n",
    "# Approximate Word Count: 122\n",
    "# Approximate Sentence Count: 5\n",
    "# Average Letter Count: 4.6\n",
    "# Average Sentence Length: 24.0\n"
   ]
  },
  {
   "cell_type": "code",
   "execution_count": null,
   "metadata": {},
   "outputs": [],
   "source": []
  }
 ],
 "metadata": {
  "kernelspec": {
   "display_name": "Python 3",
   "language": "python",
   "name": "python3"
  },
  "language_info": {
   "codemirror_mode": {
    "name": "ipython",
    "version": 3
   },
   "file_extension": ".py",
   "mimetype": "text/x-python",
   "name": "python",
   "nbconvert_exporter": "python",
   "pygments_lexer": "ipython3",
   "version": "3.6.8"
  }
 },
 "nbformat": 4,
 "nbformat_minor": 2
}
