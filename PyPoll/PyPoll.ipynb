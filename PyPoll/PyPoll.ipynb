{
 "cells": [
  {
   "cell_type": "markdown",
   "metadata": {},
   "source": [
    "## PyPoll\n",
    "\n",
    "\n",
    "* In this challenge, you are tasked with helping a small, rural town modernize its vote-counting process. (Up until now, Uncle Cleetus had been trustfully tallying them one-by-one, but unfortunately, his concentration isn't what it used to be.)\n",
    "\n",
    "* You will be give a set of poll data called [election_data.csv](PyPoll/Resources/election_data.csv). The dataset is composed of three columns: `Voter ID`, `County`, and `Candidate`. Your task is to create a Python script that analyzes the votes and calculates each of the following:\n",
    "\n",
    "  * The total number of votes cast\n",
    "\n",
    "  * A complete list of candidates who received votes\n",
    "\n",
    "  * The percentage of votes each candidate won\n",
    "\n",
    "  * The total number of votes each candidate won\n",
    "\n",
    "  * The winner of the election based on popular vote.\n",
    "\n",
    "* As an example, your analysis should look similar to the one below:\n",
    "\n",
    "  ```text\n",
    "  Election Results\n",
    "  -------------------------\n",
    "  Total Votes: 3521001\n",
    "  -------------------------\n",
    "  Khan: 63.000% (2218231)\n",
    "  Correy: 20.000% (704200)\n",
    "  Li: 14.000% (492940)\n",
    "  O'Tooley: 3.000% (105630)\n",
    "  -------------------------\n",
    "  Winner: Khan\n",
    "  -------------------------\n",
    "  ```"
   ]
  },
  {
   "cell_type": "code",
   "execution_count": 28,
   "metadata": {},
   "outputs": [
    {
     "name": "stdout",
     "output_type": "stream",
     "text": [
      " Election Results\n",
      " -------------------------\n",
      " Total Votes: 3521001\n",
      " -------------------------\n",
      " Khan: 63.000% (2218231)\n",
      " Correy: 20.000% (704200)\n",
      " Li: 14.000% (492940)\n",
      " O'Tooley: 3.000% (105630)\n",
      " -------------------------\n",
      " Winner: Khan\n",
      " -------------------------\n"
     ]
    }
   ],
   "source": [
    "import os\n",
    "import csv\n",
    "import string\n",
    "import pdb\n",
    "\n",
    "with open('Resources/election_data.csv', newline='') as electionData:\n",
    "    csvreader = csv.reader(electionData, delimiter=',')\n",
    "    csv_header = next(csvreader) # Skip the header\n",
    "    \n",
    "    votingData = []\n",
    "    totalVotes = 0\n",
    "    \n",
    "    for row in csvreader:\n",
    "        votingData.append(row[2])\n",
    "        totalVotes += 1\n",
    "            \n",
    "    candidates = []  # names \n",
    "    votes = []       # votes\n",
    "    \n",
    "    for c in votingData:\n",
    "        if c in candidates:\n",
    "            idx = candidates.index(c)\n",
    "            votes[idx] += 1\n",
    "        else:\n",
    "            candidates.append(c)\n",
    "            votes.append(1)\n",
    "            \n",
    "# The percentage of votes each candidate won\n",
    "percentVotes = [round(vote*100/totalVotes,3) for vote in votes] \n",
    "            \n",
    "print(\" Election Results\")\n",
    "print(\" -------------------------\")\n",
    "print(\" Total Votes: %d\" % totalVotes)\n",
    "print(\" -------------------------\")\n",
    "for candidate, vote, percentVote in zip(candidates, votes, percentVotes):\n",
    "    print(f' {candidate}: {percentVote:0.3f}% ({vote})')\n",
    "    \n",
    "print(\" -------------------------\")\n",
    "# The winner of the election based on popular vote.\n",
    "winner = candidates[votes.index(max(votes))]\n",
    "print(f' Winner: {winner.title()}')\n",
    "print(\" -------------------------\")\n"
   ]
  }
 ],
 "metadata": {
  "kernelspec": {
   "display_name": "Python 3",
   "language": "python",
   "name": "python3"
  },
  "language_info": {
   "codemirror_mode": {
    "name": "ipython",
    "version": 3
   },
   "file_extension": ".py",
   "mimetype": "text/x-python",
   "name": "python",
   "nbconvert_exporter": "python",
   "pygments_lexer": "ipython3",
   "version": "3.6.8"
  }
 },
 "nbformat": 4,
 "nbformat_minor": 2
}
